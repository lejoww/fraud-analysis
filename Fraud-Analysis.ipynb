{
 "cells": [
  {
   "cell_type": "code",
   "execution_count": 4,
   "metadata": {},
   "outputs": [
    {
     "name": "stdout",
     "output_type": "stream",
     "text": [
      "Requirement already satisfied: numpy in c:\\users\\alejandro\\appdata\\local\\programs\\python\\python39\\lib\\site-packages (1.21.1)\n",
      "Requirement already satisfied: pandas in c:\\users\\alejandro\\appdata\\local\\programs\\python\\python39\\lib\\site-packages (1.3.1)\n",
      "Requirement already satisfied: numpy>=1.17.3 in c:\\users\\alejandro\\appdata\\local\\programs\\python\\python39\\lib\\site-packages (from pandas) (1.21.1)\n",
      "Requirement already satisfied: pytz>=2017.3 in c:\\users\\alejandro\\appdata\\local\\programs\\python\\python39\\lib\\site-packages (from pandas) (2021.1)\n",
      "Requirement already satisfied: python-dateutil>=2.7.3 in c:\\users\\alejandro\\appdata\\local\\programs\\python\\python39\\lib\\site-packages (from pandas) (2.8.2)\n",
      "Requirement already satisfied: six>=1.5 in c:\\users\\alejandro\\appdata\\local\\programs\\python\\python39\\lib\\site-packages (from python-dateutil>=2.7.3->pandas) (1.15.0)\n",
      "Collecting seaborn\n",
      "  Downloading seaborn-0.11.1-py3-none-any.whl (285 kB)\n",
      "Collecting scipy>=1.0\n",
      "  Downloading scipy-1.7.1-cp39-cp39-win_amd64.whl (33.8 MB)\n",
      "Collecting matplotlib>=2.2\n",
      "  Downloading matplotlib-3.4.2-cp39-cp39-win_amd64.whl (7.1 MB)\n",
      "Requirement already satisfied: pandas>=0.23 in c:\\users\\alejandro\\appdata\\local\\programs\\python\\python39\\lib\\site-packages (from seaborn) (1.3.1)\n",
      "Requirement already satisfied: numpy>=1.15 in c:\\users\\alejandro\\appdata\\local\\programs\\python\\python39\\lib\\site-packages (from seaborn) (1.21.1)\n",
      "Collecting kiwisolver>=1.0.1\n",
      "  Using cached kiwisolver-1.3.1-cp39-cp39-win_amd64.whl (51 kB)\n",
      "Collecting pillow>=6.2.0\n",
      "  Downloading Pillow-8.3.1-1-cp39-cp39-win_amd64.whl (3.2 MB)\n",
      "Collecting cycler>=0.10\n",
      "  Using cached cycler-0.10.0-py2.py3-none-any.whl (6.5 kB)\n",
      "Requirement already satisfied: python-dateutil>=2.7 in c:\\users\\alejandro\\appdata\\local\\programs\\python\\python39\\lib\\site-packages (from matplotlib>=2.2->seaborn) (2.8.2)\n",
      "Requirement already satisfied: pyparsing>=2.2.1 in c:\\users\\alejandro\\appdata\\local\\programs\\python\\python39\\lib\\site-packages (from matplotlib>=2.2->seaborn) (2.4.7)\n",
      "Requirement already satisfied: six in c:\\users\\alejandro\\appdata\\local\\programs\\python\\python39\\lib\\site-packages (from cycler>=0.10->matplotlib>=2.2->seaborn) (1.15.0)\n",
      "Requirement already satisfied: pytz>=2017.3 in c:\\users\\alejandro\\appdata\\local\\programs\\python\\python39\\lib\\site-packages (from pandas>=0.23->seaborn) (2021.1)\n",
      "Installing collected packages: pillow, kiwisolver, cycler, scipy, matplotlib, seaborn\n",
      "Successfully installed cycler-0.10.0 kiwisolver-1.3.1 matplotlib-3.4.2 pillow-8.3.1 scipy-1.7.1 seaborn-0.11.1\n"
     ]
    }
   ],
   "source": [
    "import sys\n",
    "!{sys.executable} -m pip install numpy\n",
    "!{sys.executable} -m pip install pandas\n",
    "!{sys.executable} -m pip install seaborn"
   ]
  },
  {
   "cell_type": "code",
   "execution_count": 17,
   "metadata": {
    "_cell_guid": "b1076dfc-b9ad-4769-8c92-a6c4dae69d19",
    "_uuid": "8f2839f25d086af736a60e9eeb907d3b93b6e0e5",
    "execution": {
     "iopub.execute_input": "2021-08-09T23:01:47.430246Z",
     "iopub.status.busy": "2021-08-09T23:01:47.429627Z",
     "iopub.status.idle": "2021-08-09T23:01:47.455704Z",
     "shell.execute_reply": "2021-08-09T23:01:47.454613Z",
     "shell.execute_reply.started": "2021-08-09T23:01:47.430123Z"
    }
   },
   "outputs": [],
   "source": [
    "import numpy as np\n",
    "import pandas as pd\n",
    "\n",
    "import os\n",
    "for dirname, _, filenames in os.walk('/input'):\n",
    "    for filename in filenames:\n",
    "        print(os.path.join(dirname, filename))"
   ]
  },
  {
   "cell_type": "code",
   "execution_count": 18,
   "metadata": {
    "execution": {
     "iopub.execute_input": "2021-08-09T23:01:47.457678Z",
     "iopub.status.busy": "2021-08-09T23:01:47.457203Z",
     "iopub.status.idle": "2021-08-09T23:01:51.692697Z",
     "shell.execute_reply": "2021-08-09T23:01:51.691701Z",
     "shell.execute_reply.started": "2021-08-09T23:01:47.457614Z"
    }
   },
   "outputs": [],
   "source": [
    "path = './input/creditcard.csv'\n",
    "data = pd.read_csv(path)"
   ]
  },
  {
   "cell_type": "code",
   "execution_count": 20,
   "metadata": {
    "execution": {
     "iopub.execute_input": "2021-08-09T23:01:51.695317Z",
     "iopub.status.busy": "2021-08-09T23:01:51.694866Z",
     "iopub.status.idle": "2021-08-09T23:01:51.702956Z",
     "shell.execute_reply": "2021-08-09T23:01:51.700712Z",
     "shell.execute_reply.started": "2021-08-09T23:01:51.695258Z"
    }
   },
   "outputs": [
    {
     "name": "stdout",
     "output_type": "stream",
     "text": [
      "The dataset contains 31 columns and 284807 rows\n"
     ]
    }
   ],
   "source": [
    "print('The dataset contains {} columns and {} rows'.format(data.shape[1], data.shape[0]))"
   ]
  },
  {
   "cell_type": "code",
   "execution_count": 22,
   "metadata": {
    "execution": {
     "iopub.execute_input": "2021-08-09T23:05:26.679426Z",
     "iopub.status.busy": "2021-08-09T23:05:26.679064Z",
     "iopub.status.idle": "2021-08-09T23:05:26.713956Z",
     "shell.execute_reply": "2021-08-09T23:05:26.712943Z",
     "shell.execute_reply.started": "2021-08-09T23:05:26.679392Z"
    }
   },
   "outputs": [
    {
     "data": {
      "text/html": [
       "<div>\n",
       "<style scoped>\n",
       "    .dataframe tbody tr th:only-of-type {\n",
       "        vertical-align: middle;\n",
       "    }\n",
       "\n",
       "    .dataframe tbody tr th {\n",
       "        vertical-align: top;\n",
       "    }\n",
       "\n",
       "    .dataframe thead th {\n",
       "        text-align: right;\n",
       "    }\n",
       "</style>\n",
       "<table border=\"1\" class=\"dataframe\">\n",
       "  <thead>\n",
       "    <tr style=\"text-align: right;\">\n",
       "      <th></th>\n",
       "      <th>Time</th>\n",
       "      <th>V1</th>\n",
       "      <th>V2</th>\n",
       "      <th>V3</th>\n",
       "      <th>V4</th>\n",
       "      <th>V5</th>\n",
       "      <th>V6</th>\n",
       "      <th>V7</th>\n",
       "      <th>V8</th>\n",
       "      <th>V9</th>\n",
       "      <th>...</th>\n",
       "      <th>V21</th>\n",
       "      <th>V22</th>\n",
       "      <th>V23</th>\n",
       "      <th>V24</th>\n",
       "      <th>V25</th>\n",
       "      <th>V26</th>\n",
       "      <th>V27</th>\n",
       "      <th>V28</th>\n",
       "      <th>Amount</th>\n",
       "      <th>Class</th>\n",
       "    </tr>\n",
       "  </thead>\n",
       "  <tbody>\n",
       "    <tr>\n",
       "      <th>220281</th>\n",
       "      <td>142102.0</td>\n",
       "      <td>0.901935</td>\n",
       "      <td>-2.283919</td>\n",
       "      <td>-2.126534</td>\n",
       "      <td>0.537255</td>\n",
       "      <td>-0.459074</td>\n",
       "      <td>-0.263052</td>\n",
       "      <td>0.815041</td>\n",
       "      <td>-0.350452</td>\n",
       "      <td>1.154723</td>\n",
       "      <td>...</td>\n",
       "      <td>0.141376</td>\n",
       "      <td>-0.771410</td>\n",
       "      <td>-0.461228</td>\n",
       "      <td>-0.968292</td>\n",
       "      <td>-0.170606</td>\n",
       "      <td>-0.091857</td>\n",
       "      <td>-0.147110</td>\n",
       "      <td>0.042092</td>\n",
       "      <td>632.80</td>\n",
       "      <td>0</td>\n",
       "    </tr>\n",
       "    <tr>\n",
       "      <th>183829</th>\n",
       "      <td>125966.0</td>\n",
       "      <td>-0.811490</td>\n",
       "      <td>0.275649</td>\n",
       "      <td>-0.506022</td>\n",
       "      <td>-1.583454</td>\n",
       "      <td>3.481911</td>\n",
       "      <td>3.479008</td>\n",
       "      <td>0.600024</td>\n",
       "      <td>0.415729</td>\n",
       "      <td>0.004706</td>\n",
       "      <td>...</td>\n",
       "      <td>-0.260983</td>\n",
       "      <td>-0.402059</td>\n",
       "      <td>-0.586784</td>\n",
       "      <td>0.649424</td>\n",
       "      <td>0.645664</td>\n",
       "      <td>0.524109</td>\n",
       "      <td>-0.541416</td>\n",
       "      <td>-0.563725</td>\n",
       "      <td>61.60</td>\n",
       "      <td>0</td>\n",
       "    </tr>\n",
       "    <tr>\n",
       "      <th>109814</th>\n",
       "      <td>71552.0</td>\n",
       "      <td>1.163893</td>\n",
       "      <td>-0.123634</td>\n",
       "      <td>-1.376230</td>\n",
       "      <td>-0.002749</td>\n",
       "      <td>2.188256</td>\n",
       "      <td>3.316688</td>\n",
       "      <td>-0.267119</td>\n",
       "      <td>0.746101</td>\n",
       "      <td>-0.161617</td>\n",
       "      <td>...</td>\n",
       "      <td>0.017185</td>\n",
       "      <td>-0.212914</td>\n",
       "      <td>-0.197133</td>\n",
       "      <td>1.007620</td>\n",
       "      <td>0.821990</td>\n",
       "      <td>-0.320349</td>\n",
       "      <td>0.002993</td>\n",
       "      <td>0.025814</td>\n",
       "      <td>74.70</td>\n",
       "      <td>0</td>\n",
       "    </tr>\n",
       "    <tr>\n",
       "      <th>8228</th>\n",
       "      <td>11056.0</td>\n",
       "      <td>1.189002</td>\n",
       "      <td>-0.075609</td>\n",
       "      <td>0.968149</td>\n",
       "      <td>0.261218</td>\n",
       "      <td>-0.910526</td>\n",
       "      <td>-0.635527</td>\n",
       "      <td>-0.564922</td>\n",
       "      <td>-0.043310</td>\n",
       "      <td>1.528679</td>\n",
       "      <td>...</td>\n",
       "      <td>-0.006474</td>\n",
       "      <td>0.182924</td>\n",
       "      <td>0.002928</td>\n",
       "      <td>0.553324</td>\n",
       "      <td>0.135123</td>\n",
       "      <td>1.002068</td>\n",
       "      <td>-0.095873</td>\n",
       "      <td>-0.003121</td>\n",
       "      <td>15.95</td>\n",
       "      <td>0</td>\n",
       "    </tr>\n",
       "    <tr>\n",
       "      <th>214036</th>\n",
       "      <td>139507.0</td>\n",
       "      <td>-0.511975</td>\n",
       "      <td>0.315098</td>\n",
       "      <td>-2.017383</td>\n",
       "      <td>-3.393887</td>\n",
       "      <td>2.263179</td>\n",
       "      <td>3.008630</td>\n",
       "      <td>-0.312078</td>\n",
       "      <td>1.131530</td>\n",
       "      <td>-1.210163</td>\n",
       "      <td>...</td>\n",
       "      <td>0.612395</td>\n",
       "      <td>1.535499</td>\n",
       "      <td>-0.003279</td>\n",
       "      <td>0.747516</td>\n",
       "      <td>-0.660749</td>\n",
       "      <td>-0.208781</td>\n",
       "      <td>0.087431</td>\n",
       "      <td>0.235663</td>\n",
       "      <td>15.00</td>\n",
       "      <td>0</td>\n",
       "    </tr>\n",
       "  </tbody>\n",
       "</table>\n",
       "<p>5 rows × 31 columns</p>\n",
       "</div>"
      ],
      "text/plain": [
       "            Time        V1        V2        V3        V4        V5        V6  \\\n",
       "220281  142102.0  0.901935 -2.283919 -2.126534  0.537255 -0.459074 -0.263052   \n",
       "183829  125966.0 -0.811490  0.275649 -0.506022 -1.583454  3.481911  3.479008   \n",
       "109814   71552.0  1.163893 -0.123634 -1.376230 -0.002749  2.188256  3.316688   \n",
       "8228     11056.0  1.189002 -0.075609  0.968149  0.261218 -0.910526 -0.635527   \n",
       "214036  139507.0 -0.511975  0.315098 -2.017383 -3.393887  2.263179  3.008630   \n",
       "\n",
       "              V7        V8        V9  ...       V21       V22       V23  \\\n",
       "220281  0.815041 -0.350452  1.154723  ...  0.141376 -0.771410 -0.461228   \n",
       "183829  0.600024  0.415729  0.004706  ... -0.260983 -0.402059 -0.586784   \n",
       "109814 -0.267119  0.746101 -0.161617  ...  0.017185 -0.212914 -0.197133   \n",
       "8228   -0.564922 -0.043310  1.528679  ... -0.006474  0.182924  0.002928   \n",
       "214036 -0.312078  1.131530 -1.210163  ...  0.612395  1.535499 -0.003279   \n",
       "\n",
       "             V24       V25       V26       V27       V28  Amount  Class  \n",
       "220281 -0.968292 -0.170606 -0.091857 -0.147110  0.042092  632.80      0  \n",
       "183829  0.649424  0.645664  0.524109 -0.541416 -0.563725   61.60      0  \n",
       "109814  1.007620  0.821990 -0.320349  0.002993  0.025814   74.70      0  \n",
       "8228    0.553324  0.135123  1.002068 -0.095873 -0.003121   15.95      0  \n",
       "214036  0.747516 -0.660749 -0.208781  0.087431  0.235663   15.00      0  \n",
       "\n",
       "[5 rows x 31 columns]"
      ]
     },
     "execution_count": 22,
     "metadata": {},
     "output_type": "execute_result"
    }
   ],
   "source": [
    "data.sample(5)"
   ]
  },
  {
   "cell_type": "code",
   "execution_count": 23,
   "metadata": {
    "execution": {
     "iopub.execute_input": "2021-08-09T23:01:51.763146Z",
     "iopub.status.busy": "2021-08-09T23:01:51.762750Z",
     "iopub.status.idle": "2021-08-09T23:01:56.118146Z",
     "shell.execute_reply": "2021-08-09T23:01:56.116998Z",
     "shell.execute_reply.started": "2021-08-09T23:01:51.763106Z"
    }
   },
   "outputs": [
    {
     "data": {
      "text/plain": [
       "<seaborn.axisgrid.FacetGrid at 0x26a95d55e20>"
      ]
     },
     "execution_count": 23,
     "metadata": {},
     "output_type": "execute_result"
    },
    {
     "data": {
      "image/png": "[encoded data removed]",
      "text/plain": [
       "<Figure size 360x360 with 1 Axes>"
      ]
     },
     "metadata": {
      "needs_background": "light"
     },
     "output_type": "display_data"
    },
    {
     "data": {
      "image/png": "[encoded data removed]",
      "text/plain": [
       "<Figure size 360x360 with 1 Axes>"
      ]
     },
     "metadata": {
      "needs_background": "light"
     },
     "output_type": "display_data"
    }
   ],
   "source": [
    "import seaborn as sns\n",
    "sns.displot(data['Time'], kind='kde').set(title='Distribution of time')\n",
    "sns.displot(data['Amount'], kind='kde').set(title='Distribution of amount')"
   ]
  },
  {
   "cell_type": "code",
   "execution_count": 24,
   "metadata": {
    "execution": {
     "iopub.execute_input": "2021-08-09T23:13:13.707811Z",
     "iopub.status.busy": "2021-08-09T23:13:13.707440Z",
     "iopub.status.idle": "2021-08-09T23:13:13.715549Z",
     "shell.execute_reply": "2021-08-09T23:13:13.714448Z",
     "shell.execute_reply.started": "2021-08-09T23:13:13.707781Z"
    }
   },
   "outputs": [],
   "source": [
    "counts = data.Class.value_counts()\n",
    "total_transactions = counts[0] + counts[1]\n",
    "normal_transactions = counts[0]\n",
    "fraudulent_transactions = counts[1]"
   ]
  },
  {
   "cell_type": "code",
   "execution_count": 25,
   "metadata": {
    "execution": {
     "iopub.execute_input": "2021-08-09T23:14:23.579674Z",
     "iopub.status.busy": "2021-08-09T23:14:23.578984Z",
     "iopub.status.idle": "2021-08-09T23:14:23.585204Z",
     "shell.execute_reply": "2021-08-09T23:14:23.584470Z",
     "shell.execute_reply.started": "2021-08-09T23:14:23.579622Z"
    }
   },
   "outputs": [
    {
     "name": "stdout",
     "output_type": "stream",
     "text": [
      "The 99.83% of transactions were normal and 0.17% were fraudulent\n"
     ]
    }
   ],
   "source": [
    "perc_normal = (normal_transactions/total_transactions)*100\n",
    "perc_fraudulent = (fraudulent_transactions/total_transactions)*100\n",
    "\n",
    "print('The {:.2f}% of transactions were normal and {:.2f}% were fraudulent'.format(perc_normal, perc_fraudulent))"
   ]
  },
  {
   "cell_type": "code",
   "execution_count": 26,
   "metadata": {
    "execution": {
     "iopub.execute_input": "2021-08-09T23:19:12.260837Z",
     "iopub.status.busy": "2021-08-09T23:19:12.260458Z",
     "iopub.status.idle": "2021-08-09T23:19:12.401433Z",
     "shell.execute_reply": "2021-08-09T23:19:12.400455Z",
     "shell.execute_reply.started": "2021-08-09T23:19:12.260802Z"
    }
   },
   "outputs": [
    {
     "data": {
      "text/plain": [
       "[Text(0.5, 1.0, 'Normal vs. Fraudulent transactions'),\n",
       " Text(0, 0.5, 'Count'),\n",
       " Text(0.5, 0, 'Class(0:Normal, 1:Fraudulent)')]"
      ]
     },
     "execution_count": 26,
     "metadata": {},
     "output_type": "execute_result"
    },
    {
     "data": {
      "image/png": "[encoded data removed]",
      "text/plain": [
       "<Figure size 432x288 with 1 Axes>"
      ]
     },
     "metadata": {
      "needs_background": "light"
     },
     "output_type": "display_data"
    }
   ],
   "source": [
    "sns.barplot(x=counts.index, y=counts).set(title='Normal vs. Fraudulent transactions', ylabel='Count', xlabel='Class(0:Normal, 1:Fraudulent)')"
   ]
  },
  {
   "cell_type": "code",
   "execution_count": null,
   "metadata": {},
   "outputs": [],
   "source": []
  }
 ],
 "metadata": {
  "kernelspec": {
   "display_name": "Python 3 (ipykernel)",
   "language": "python",
   "name": "python3"
  },
  "language_info": {
   "codemirror_mode": {
    "name": "ipython",
    "version": 3
   },
   "file_extension": ".py",
   "mimetype": "text/x-python",
   "name": "python",
   "nbconvert_exporter": "python",
   "pygments_lexer": "ipython3",
   "version": "3.9.1"
  }
 },
 "nbformat": 4,
 "nbformat_minor": 4
}
